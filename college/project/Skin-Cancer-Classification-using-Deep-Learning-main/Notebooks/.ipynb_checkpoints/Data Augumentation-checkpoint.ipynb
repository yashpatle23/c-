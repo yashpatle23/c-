{
 "cells": [
  {
   "cell_type": "markdown",
   "metadata": {
    "id": "0qOtnWYEYU4N"
   },
   "source": [
    "# Data Augmentation"
   ]
  },
  {
   "cell_type": "markdown",
   "metadata": {
    "id": "X35WJO12ZKyl",
    "tags": []
   },
   "source": [
    "## Important Packages Import:"
   ]
  },
  {
   "cell_type": "code",
   "execution_count": null,
   "metadata": {
    "colab": {
     "base_uri": "https://localhost:8080/"
    },
    "id": "zROtMFmvRI0s",
    "outputId": "3564bf33-d031-471d-c3cc-af10e94c262e"
   },
   "outputs": [],
   "source": [
    "# Install Alumentation latest version\n",
    "!pip install -U albumentations"
   ]
  },
  {
   "cell_type": "code",
   "execution_count": null,
   "metadata": {
    "id": "lGqHhkTopUXy"
   },
   "outputs": [],
   "source": [
    "import albumentations as A\n",
    "import cv2\n",
    "import os\n",
    "import matplotlib.pyplot as plt\n",
    "import numpy as np"
   ]
  },
  {
   "cell_type": "code",
   "execution_count": null,
   "metadata": {
    "colab": {
     "base_uri": "https://localhost:8080/"
    },
    "id": "57egPsjQjLeY",
    "outputId": "e93c5554-3aac-400b-d997-553177bc005e"
   },
   "outputs": [],
   "source": [
    "# Alumentation latest version\n",
    "print(A.__version__)"
   ]
  },
  {
   "cell_type": "code",
   "execution_count": null,
   "metadata": {
    "colab": {
     "base_uri": "https://localhost:8080/"
    },
    "id": "t27pISMPZYFF",
    "outputId": "84587892-4fb3-49df-a6b2-79da27c48e00"
   },
   "outputs": [],
   "source": [
    "!ls"
   ]
  },
  {
   "cell_type": "markdown",
   "metadata": {
    "id": "0Dhn7ngmeDsd"
   },
   "source": [
    "## Load the files to variable 'images'"
   ]
  },
  {
   "cell_type": "code",
   "execution_count": null,
   "metadata": {
    "id": "3Jgn-sgVRHoC"
   },
   "outputs": [],
   "source": [
    "images = []\n",
    "for filename in os.listdir('/content/gdrive/My Drive/sample'):\n",
    "  img = cv2.imread(os.path.join('/content/gdrive/My Drive/sample',filename))\n",
    "  if img is not None:\n",
    "    images.append(img)\n",
    "    "
   ]
  },
  {
   "cell_type": "code",
   "execution_count": null,
   "metadata": {
    "colab": {
     "base_uri": "https://localhost:8080/"
    },
    "id": "iIr59qgEVkRx",
    "outputId": "7adaca88-05d1-4f19-85dd-9343ab8f76cc"
   },
   "outputs": [],
   "source": [
    "len(images)"
   ]
  },
  {
   "cell_type": "markdown",
   "metadata": {
    "id": "TB2CCuj2eG6l"
   },
   "source": [
    "## Sample Image details"
   ]
  },
  {
   "cell_type": "code",
   "execution_count": null,
   "metadata": {
    "colab": {
     "base_uri": "https://localhost:8080/",
     "height": 336
    },
    "id": "VJklMGFE1Mkn",
    "outputId": "7b353d90-aa12-43ab-df69-c682dac9b110"
   },
   "outputs": [],
   "source": [
    "#Print Shape of the sample image\n",
    "print(images[0].shape)\n",
    "\n",
    "#Get the width, height and channel values from sample image\n",
    "w,h,c=images[0].shape\n",
    "\n",
    "#Print width, height and channel values of sample image\n",
    "print(w)\n",
    "print(h)\n",
    "print(c)\n",
    "\n",
    "#Show the sample image\n",
    "plt.imshow(images[0])\n",
    "plt.show()"
   ]
  },
  {
   "cell_type": "markdown",
   "metadata": {
    "id": "WWUSHw-6el7V"
   },
   "source": [
    "## Get the width, height and channel values for all images"
   ]
  },
  {
   "cell_type": "code",
   "execution_count": null,
   "metadata": {
    "id": "ahumr6bw1ulv"
   },
   "outputs": [],
   "source": [
    "#Initialize the empty array for height=h, width=w and channel=c\n",
    "h=[]\n",
    "w=[]\n",
    "c=[]\n",
    "\n",
    "for i in range(len(images)):\n",
    "  x,y,z=images[i].shape\n",
    "  w.append(x)\n",
    "  h.append(y)\n",
    "  c.append(z)"
   ]
  },
  {
   "cell_type": "markdown",
   "metadata": {
    "id": "ygzynRe9e26_"
   },
   "source": [
    "## Show the first 10 sample images"
   ]
  },
  {
   "cell_type": "code",
   "execution_count": null,
   "metadata": {
    "colab": {
     "base_uri": "https://localhost:8080/",
     "height": 1000
    },
    "id": "w7BsIDAPUCct",
    "outputId": "94af5f7c-e6ce-444b-e58a-a587df0784df"
   },
   "outputs": [],
   "source": [
    "for i in range(10):\n",
    "  print(\"Image:\",i+1)\n",
    "  plt.imshow(images[i])\n",
    "  plt.show()"
   ]
  },
  {
   "cell_type": "markdown",
   "metadata": {
    "id": "D0voTBsoj8Oz"
   },
   "source": [
    "## Data Augmentations:"
   ]
  },
  {
   "cell_type": "markdown",
   "metadata": {
    "id": "m8x8HIshkA-Z"
   },
   "source": [
    "### Data Augumentation: With Blurs and Distorsions"
   ]
  },
  {
   "cell_type": "code",
   "execution_count": null,
   "metadata": {
    "colab": {
     "base_uri": "https://localhost:8080/"
    },
    "id": "9vaeZ3hJo-9i",
    "outputId": "f2b9359e-3484-4e7b-9d9c-2fb272a095e6"
   },
   "outputs": [],
   "source": [
    "transform = A.Compose([\n",
    "                       A.Transpose(p=0.5),\n",
    "                       A.VerticalFlip(p=0.5),\n",
    "                       A.HorizontalFlip(p=0.5),\n",
    "                       A.Rotate(p=0.5),\n",
    "                       A.RandomBrightness(limit=0.2, p=0.5),\n",
    "                       A.RandomContrast(limit=0.2, p=0.5),\n",
    "                       A.OneOf([\n",
    "                                A.MotionBlur(blur_limit=5, p=0.25),\n",
    "                                A.MedianBlur(blur_limit=5, p=0.25),\n",
    "                                A.GaussianBlur(blur_limit=5, p=0.25),\n",
    "                                A.GaussNoise(var_limit=(5.0, 30.0), p=0.25)                                \n",
    "                       ]),\n",
    "                       A.OneOf([\n",
    "                                A.OpticalDistortion(distort_limit=1.0, p=0.25),\n",
    "                                A.GridDistortion(num_steps=5, distort_limit=1., p=0.25),\n",
    "                                A.ElasticTransform(alpha=3, p=0.25)                               \n",
    "                       ]),\n",
    "                       A.CLAHE(clip_limit=4.0, p=0.7),\n",
    "                       A.HueSaturationValue(hue_shift_limit=10, sat_shift_limit=20, val_shift_limit=10, p=0.5),\n",
    "                       A.ShiftScaleRotate(shift_limit=0.1, scale_limit=0.1, rotate_limit=15, border_mode=0, p=0.85),\n",
    "                       A.Resize(width=722, height=542, p=0.5),\n",
    "                       A.Normalize(max_pixel_value=255.0,p=0.5),\n",
    "                       A.Cutout(max_h_size=int(h[i]*0.1), max_w_size=int(w[i]*0.1), num_holes=8, p=0.7)\n",
    "                       ])"
   ]
  },
  {
   "cell_type": "markdown",
   "metadata": {
    "id": "Xu7ISgBykKe6"
   },
   "source": [
    "### Data Augumentation: Without Blurs and Distorsions"
   ]
  },
  {
   "cell_type": "code",
   "execution_count": null,
   "metadata": {
    "id": "ghfX-7yQQu7A"
   },
   "outputs": [],
   "source": [
    "transform1 = A.Compose([\n",
    "                        A.Transpose(p=0.5),\n",
    "                        A.Flip(p=0.5),\n",
    "                        A.OneOf([\n",
    "                                 A.RandomBrightnessContrast(brightness_limit=0.3, contrast_limit=0.3),\n",
    "                                 A.RandomBrightnessContrast(brightness_limit=0.1, contrast_limit=0.1)\n",
    "                                 ],p=1),\n",
    "                        A.GaussianBlur(p=0.05),\n",
    "                        A.HueSaturationValue(p=0.5),\n",
    "                        A.RGBShift(p=0.5),\n",
    "                        ])"
   ]
  },
  {
   "cell_type": "markdown",
   "metadata": {
    "id": "k_UGeRoxkNEU"
   },
   "source": [
    "### Augmentation of first 50 images images with the 2 augmentations"
   ]
  },
  {
   "cell_type": "code",
   "execution_count": null,
   "metadata": {
    "colab": {
     "base_uri": "https://localhost:8080/",
     "height": 1000
    },
    "id": "qSVpQaOgeIi2",
    "outputId": "ba6ea79f-0683-4274-ab60-32831fcb2b94"
   },
   "outputs": [],
   "source": [
    "for i in range(50):\n",
    "  #with Blur and distorsion\n",
    "  transformed = transform(image=images[i])\n",
    "  transformed_image = transformed[\"image\"]\n",
    "  \n",
    "  #without Blur and distorsion\n",
    "  transformed1 = transform1(image=images[i])\n",
    "  transformed_image1 = transformed1[\"image\"]\n",
    "  \n",
    "  print('Sample Image {}:'.format(i+1))\n",
    "  plt.imshow(images[i])\n",
    "  plt.show()\n",
    "  \n",
    "  print('Augmentated Image with Blur and distorsion {}:'.format(i+1))\n",
    "  plt.imshow(transformed_image)\n",
    "  plt.show()\n",
    "\n",
    "  print('Augmentated Image without Blur and distorsion {}:'.format(i+1))\n",
    "  plt.imshow(transformed_image1)\n",
    "  plt.show()"
   ]
  },
  {
   "cell_type": "code",
   "execution_count": null,
   "metadata": {},
   "outputs": [],
   "source": []
  },
  {
   "cell_type": "code",
   "execution_count": null,
   "metadata": {},
   "outputs": [],
   "source": []
  },
  {
   "cell_type": "code",
   "execution_count": null,
   "metadata": {},
   "outputs": [],
   "source": []
  },
  {
   "cell_type": "code",
   "execution_count": null,
   "metadata": {},
   "outputs": [],
   "source": []
  },
  {
   "cell_type": "code",
   "execution_count": null,
   "metadata": {},
   "outputs": [],
   "source": []
  }
 ],
 "metadata": {
  "colab": {
   "collapsed_sections": [],
   "name": "Data Augumentation.ipynb",
   "provenance": [],
   "toc_visible": true
  },
  "interpreter": {
   "hash": "d74d7db319bafd33f7c656d0a982f55c49dd2aede06f5b3f0df9d1774c187a88"
  },
  "kernelspec": {
   "display_name": "Python 3 (ipykernel)",
   "language": "python",
   "name": "python3"
  },
  "language_info": {
   "codemirror_mode": {
    "name": "ipython",
    "version": 3
   },
   "file_extension": ".py",
   "mimetype": "text/x-python",
   "name": "python",
   "nbconvert_exporter": "python",
   "pygments_lexer": "ipython3",
   "version": "3.11.0"
  }
 },
 "nbformat": 4,
 "nbformat_minor": 4
}
